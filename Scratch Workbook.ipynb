{
 "cells": [
  {
   "cell_type": "markdown",
   "id": "43d5f166",
   "metadata": {},
   "source": [
    "# REGEX 2"
   ]
  },
  {
   "cell_type": "code",
   "execution_count": 2,
   "id": "4bd66662",
   "metadata": {},
   "outputs": [],
   "source": [
    "import pandas as pd \n",
    "import re"
   ]
  },
  {
   "cell_type": "markdown",
   "id": "355d4494",
   "metadata": {},
   "source": [
    "_Write a function named is_vowel. It should accept a string as input and use a regular expression to determine if the passed string is a vowel. While not explicity mentioned in the lesson, you can treat the result of re.search as a boolean value that indicates whether or not the regular expression matches the given string._"
   ]
  },
  {
   "cell_type": "code",
   "execution_count": 3,
   "id": "5ec179eb",
   "metadata": {},
   "outputs": [],
   "source": [
    "def is_vowel(string):\n",
    "    return bool(re.search(r'^[aeiou]$', string, re.IGNORECASE))"
   ]
  },
  {
   "cell_type": "code",
   "execution_count": null,
   "id": "80eabd6f",
   "metadata": {},
   "outputs": [],
   "source": [
    "def is_consonant(string):\n",
    "    return bool(re.search(r'^[^aeiou]$', string, re.IGNORECASE))"
   ]
  },
  {
   "cell_type": "markdown",
   "id": "230d9c96",
   "metadata": {},
   "source": [
    "_Write a function named is_valid_username that accepts a string as input. A valid username starts with a lowercase letter, and only consists of lowercase letters, numbers, or the _ character. It should also be no longer than 32 characters. The function should return either True or False depending on whether the passed string is a valid username._\n",
    "\n",
    "\n"
   ]
  },
  {
   "cell_type": "code",
   "execution_count": 4,
   "id": "383a199f",
   "metadata": {},
   "outputs": [],
   "source": [
    "def is_valid_username(string): \n",
    "    password_pattern = r'^[a-z][a-z0-9_]{,31}$'\n",
    "    return bool(re.search(password_pattern, string))"
   ]
  },
  {
   "cell_type": "markdown",
   "id": "db91e006",
   "metadata": {},
   "source": [
    "_Write a regular expression to capture phone numbers. It should match all of the following:_"
   ]
  },
  {
   "cell_type": "markdown",
   "id": "0a938204",
   "metadata": {},
   "source": [
    "- (210) 867 5309\n",
    "- +1 210.867.5309\n",
    "- 867-5309\n",
    "- 210-867-5309"
   ]
  },
  {
   "cell_type": "code",
   "execution_count": 5,
   "id": "15a9f2fb",
   "metadata": {},
   "outputs": [
    {
     "data": {
      "text/plain": [
       "<re.Match object; span=(0, 8), match='867-5309'>"
      ]
     },
     "execution_count": 5,
     "metadata": {},
     "output_type": "execute_result"
    }
   ],
   "source": [
    "#seven digits with hyphen \n",
    "re.search(r\"\\d{3}-\\d{4}\", \"867-5309\")"
   ]
  },
  {
   "cell_type": "code",
   "execution_count": 7,
   "id": "dcfc7e2d",
   "metadata": {},
   "outputs": [
    {
     "data": {
      "text/plain": [
       "<re.Match object; span=(0, 12), match='210-867-5309'>"
      ]
     },
     "execution_count": 7,
     "metadata": {},
     "output_type": "execute_result"
    }
   ],
   "source": [
    "#ten digits with hyphens \n",
    "re.search(r\"\\d{3}-\\d{3}-\\d{4}\", \"210-867-5309\")"
   ]
  },
  {
   "cell_type": "code",
   "execution_count": 14,
   "id": "4e025f58",
   "metadata": {},
   "outputs": [],
   "source": [
    "#match all phone numbers \n",
    "def is_phone_number(string):\n",
    "    phone_number_re = '(\\+?\\d+)?.?(\\(d{3}\\)?)?.?\\d{3}.?\\d{4}'\n",
    "    \n",
    "    return bool(re.search(phone_number_re, string))\n",
    "\n",
    "assert is_phone_number('+1 210.867.5309') == True\n",
    "assert is_phone_number('(210) 867 5309') == True\n",
    "assert is_phone_number('210.867.5309') == True\n",
    "assert is_phone_number('867.5309') == True"
   ]
  },
  {
   "cell_type": "markdown",
   "id": "b6901044",
   "metadata": {},
   "source": [
    "_Use regular expressions to convert the dates below to the standardized year-month-day format._"
   ]
  },
  {
   "cell_type": "code",
   "execution_count": 15,
   "id": "579e156e",
   "metadata": {},
   "outputs": [
    {
     "data": {
      "text/plain": [
       "['02/04/19',\n",
       " '02/05/19',\n",
       " '02/06/19',\n",
       " '02/07/19',\n",
       " '02/08/19',\n",
       " '02/09/19',\n",
       " '02/10/19']"
      ]
     },
     "execution_count": 15,
     "metadata": {},
     "output_type": "execute_result"
    }
   ],
   "source": [
    "date_list = [\"02/04/19\",\n",
    "             \"02/05/19\",\n",
    "             \"02/06/19\",\n",
    "             \"02/07/19\",\n",
    "             \"02/08/19\",\n",
    "             \"02/09/19\",\n",
    "             \"02/10/19\",\n",
    "            ]\n",
    "\n",
    "date_list"
   ]
  },
  {
   "cell_type": "code",
   "execution_count": 16,
   "id": "e9d6b232",
   "metadata": {},
   "outputs": [
    {
     "data": {
      "text/plain": [
       "0    02/04/19\n",
       "1    02/05/19\n",
       "2    02/06/19\n",
       "3    02/07/19\n",
       "4    02/08/19\n",
       "5    02/09/19\n",
       "6    02/10/19\n",
       "dtype: object"
      ]
     },
     "execution_count": 16,
     "metadata": {},
     "output_type": "execute_result"
    }
   ],
   "source": [
    "dates = pd.Series(date_list)\n",
    "dates"
   ]
  },
  {
   "cell_type": "code",
   "execution_count": 17,
   "id": "30fd1787",
   "metadata": {},
   "outputs": [
    {
     "data": {
      "text/plain": [
       "0    2019-02-04\n",
       "1    2019-02-05\n",
       "2    2019-02-06\n",
       "3    2019-02-07\n",
       "4    2019-02-08\n",
       "5    2019-02-09\n",
       "6    2019-02-10\n",
       "dtype: object"
      ]
     },
     "execution_count": 17,
     "metadata": {},
     "output_type": "execute_result"
    }
   ],
   "source": [
    "dates.str.replace(r'(\\d{2})/(\\d{2})/(\\d{2})', r'20\\3-\\1-\\2', regex=True)"
   ]
  },
  {
   "cell_type": "markdown",
   "id": "f077530b",
   "metadata": {},
   "source": [
    "_Write a regex to extract the various parts of these logfile lines:_"
   ]
  },
  {
   "cell_type": "markdown",
   "id": "36583cf9",
   "metadata": {},
   "source": [
    "GET /api/v1/sales?page=86 [16/Apr/2019:193452+0000] HTTP/1.1 {200} 510348 \"python-requests/2.21.0\" 97.105.19.58\n",
    "\n",
    "POST /users_accounts/file-upload [16/Apr/2019:193452+0000] HTTP/1.1 {201} 42 \"User-Agent: Mozilla/5.0 (X11; Fedora; Fedora; Linux x86_64) AppleWebKit/537.36 (KHTML, like Gecko) Chrome/73.0.3683.86 Safari/537.36\" 97.105.19.58\n",
    "\n",
    "GET /api/v1/items?page=3 [16/Apr/2019:193453+0000] HTTP/1.1 {429} 3561 \"python-requests/2.21.0\" 97.105.19.58"
   ]
  },
  {
   "cell_type": "code",
   "execution_count": null,
   "id": "f304e191",
   "metadata": {},
   "outputs": [],
   "source": [
    "logfile_re = r '''\n",
    "^(?P<method>GET|POST)\n",
    "\\s+\n",
    "(?P<path>.*?)\n",
    "\\s+\n",
    "\\[(?P<timestamp>.*?)\\]\n",
    "\\s+\n",
    "(?P<http_version>.*?)\n",
    "\\s+\n",
    "\\{(?P<status>\\d+)\\}\n",
    "\\s+\n"
   ]
  },
  {
   "cell_type": "code",
   "execution_count": null,
   "id": "34def899",
   "metadata": {},
   "outputs": [],
   "source": []
  },
  {
   "cell_type": "code",
   "execution_count": null,
   "id": "54da6e9f",
   "metadata": {},
   "outputs": [],
   "source": []
  },
  {
   "cell_type": "code",
   "execution_count": null,
   "id": "dae01564",
   "metadata": {},
   "outputs": [],
   "source": []
  },
  {
   "cell_type": "code",
   "execution_count": null,
   "id": "0216c262",
   "metadata": {},
   "outputs": [],
   "source": []
  },
  {
   "cell_type": "code",
   "execution_count": null,
   "id": "75f46507",
   "metadata": {},
   "outputs": [],
   "source": []
  },
  {
   "cell_type": "code",
   "execution_count": null,
   "id": "a8ead778",
   "metadata": {},
   "outputs": [],
   "source": []
  },
  {
   "cell_type": "code",
   "execution_count": null,
   "id": "bea36ccc",
   "metadata": {},
   "outputs": [],
   "source": []
  },
  {
   "cell_type": "code",
   "execution_count": null,
   "id": "f8544dcb",
   "metadata": {},
   "outputs": [],
   "source": []
  },
  {
   "cell_type": "code",
   "execution_count": null,
   "id": "002fb84e",
   "metadata": {},
   "outputs": [],
   "source": []
  },
  {
   "cell_type": "code",
   "execution_count": null,
   "id": "88d1ff99",
   "metadata": {},
   "outputs": [],
   "source": []
  }
 ],
 "metadata": {
  "kernelspec": {
   "display_name": "Python 3 (ipykernel)",
   "language": "python",
   "name": "python3"
  },
  "language_info": {
   "codemirror_mode": {
    "name": "ipython",
    "version": 3
   },
   "file_extension": ".py",
   "mimetype": "text/x-python",
   "name": "python",
   "nbconvert_exporter": "python",
   "pygments_lexer": "ipython3",
   "version": "3.9.7"
  }
 },
 "nbformat": 4,
 "nbformat_minor": 5
}
