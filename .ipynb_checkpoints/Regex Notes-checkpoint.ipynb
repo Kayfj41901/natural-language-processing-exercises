{
 "cells": [
  {
   "cell_type": "code",
   "execution_count": 1,
   "id": "904cb713",
   "metadata": {},
   "outputs": [],
   "source": [
    "import pandas as pd \n",
    "import numpy as np \n",
    "import matplotlib as plt \n",
    "import seaborn as sns \n",
    "import re"
   ]
  },
  {
   "cell_type": "markdown",
   "id": "8c12b07b",
   "metadata": {},
   "source": [
    "### What are regular expressions?"
   ]
  },
  {
   "cell_type": "markdown",
   "id": "d495610f",
   "metadata": {},
   "source": [
    "#### You must memorize them "
   ]
  },
  {
   "cell_type": "markdown",
   "id": "3525b69d",
   "metadata": {},
   "source": [
    "#### Symbols representing a text pattern "
   ]
  },
  {
   "cell_type": "markdown",
   "id": "939b4623",
   "metadata": {},
   "source": [
    "Regular Expressions are separated into the _Basic Set_ and the _Extended Set_ "
   ]
  },
  {
   "cell_type": "markdown",
   "id": "0525cb07",
   "metadata": {},
   "source": [
    "#### WIldcard Period . "
   ]
  },
  {
   "cell_type": "markdown",
   "id": "35b6c205",
   "metadata": {},
   "source": [
    "- foo.bar\n",
    "- will correctly identify \n",
    "- fooabar\n",
    "- fooxbar\n",
    "- foocbar"
   ]
  },
  {
   "cell_type": "code",
   "execution_count": 72,
   "id": "69451cdd",
   "metadata": {},
   "outputs": [],
   "source": [
    "def is_foobar(string):\n",
    "    return bool(re.search(r'^foo.bar$', string))"
   ]
  },
  {
   "cell_type": "code",
   "execution_count": 73,
   "id": "40ad69be",
   "metadata": {},
   "outputs": [
    {
     "data": {
      "text/plain": [
       "False"
      ]
     },
     "execution_count": 73,
     "metadata": {},
     "output_type": "execute_result"
    }
   ],
   "source": [
    "is_foobar('fooaabar')"
   ]
  },
  {
   "cell_type": "code",
   "execution_count": 74,
   "id": "66e75be8",
   "metadata": {},
   "outputs": [
    {
     "data": {
      "text/plain": [
       "True"
      ]
     },
     "execution_count": 74,
     "metadata": {},
     "output_type": "execute_result"
    }
   ],
   "source": [
    "is_foobar('fooabar')"
   ]
  },
  {
   "cell_type": "markdown",
   "id": "96621a24",
   "metadata": {},
   "source": [
    "#### Wildcard Asterisk Combo"
   ]
  },
  {
   "cell_type": "markdown",
   "id": "09981562",
   "metadata": {},
   "source": [
    "- foo.*bar\n",
    "- will correctly identify\n",
    "    - fooabcbar\n",
    "    - foorbar\n",
    "    - fooxxabar"
   ]
  },
  {
   "cell_type": "code",
   "execution_count": 75,
   "id": "fca7d3c0",
   "metadata": {},
   "outputs": [],
   "source": [
    "def is_foobar2(string):\n",
    "    return bool(re.search(r'^foo.*bar$', string))"
   ]
  },
  {
   "cell_type": "code",
   "execution_count": 79,
   "id": "24b1ae14",
   "metadata": {},
   "outputs": [
    {
     "data": {
      "text/plain": [
       "True"
      ]
     },
     "execution_count": 79,
     "metadata": {},
     "output_type": "execute_result"
    }
   ],
   "source": [
    "is_foobar2('fooabcbar')"
   ]
  },
  {
   "cell_type": "code",
   "execution_count": 80,
   "id": "37b54361",
   "metadata": {},
   "outputs": [
    {
     "data": {
      "text/plain": [
       "True"
      ]
     },
     "execution_count": 80,
     "metadata": {},
     "output_type": "execute_result"
    }
   ],
   "source": [
    "is_foobar2('foowewbar')"
   ]
  },
  {
   "cell_type": "code",
   "execution_count": 81,
   "id": "3c89635a",
   "metadata": {},
   "outputs": [
    {
     "data": {
      "text/plain": [
       "True"
      ]
     },
     "execution_count": 81,
     "metadata": {},
     "output_type": "execute_result"
    }
   ],
   "source": [
    "#this should be false\n",
    "is_foobar2('foo  bar')"
   ]
  },
  {
   "cell_type": "markdown",
   "id": "84ce5257",
   "metadata": {},
   "source": [
    "#### Representing Whitespaces "
   ]
  },
  {
   "cell_type": "markdown",
   "id": "5aa335ac",
   "metadata": {},
   "source": [
    "- Want to correctly identify: \n",
    "    - foo bar \n",
    "    - foo   bar \n",
    "    - foo     bar \n",
    "\n",
    "- foo\\s*bar"
   ]
  },
  {
   "cell_type": "code",
   "execution_count": 82,
   "id": "8b24f8f8",
   "metadata": {},
   "outputs": [],
   "source": [
    "#the \\s* will correctly identify a string that has varying numbers of spaces in the middle \n",
    "def is_foobar3(string):\n",
    "    return bool(re.search(r'^foo\\s*bar$', string))"
   ]
  },
  {
   "cell_type": "code",
   "execution_count": 83,
   "id": "3ef3ba80",
   "metadata": {},
   "outputs": [
    {
     "data": {
      "text/plain": [
       "True"
      ]
     },
     "execution_count": 83,
     "metadata": {},
     "output_type": "execute_result"
    }
   ],
   "source": [
    "is_foobar3('foo bar')"
   ]
  },
  {
   "cell_type": "code",
   "execution_count": 84,
   "id": "f40564ec",
   "metadata": {},
   "outputs": [
    {
     "data": {
      "text/plain": [
       "True"
      ]
     },
     "execution_count": 84,
     "metadata": {},
     "output_type": "execute_result"
    }
   ],
   "source": [
    "is_foobar3('foo   bar')"
   ]
  },
  {
   "cell_type": "code",
   "execution_count": 85,
   "id": "f3838147",
   "metadata": {},
   "outputs": [
    {
     "data": {
      "text/plain": [
       "False"
      ]
     },
     "execution_count": 85,
     "metadata": {},
     "output_type": "execute_result"
    }
   ],
   "source": [
    "is_foobar3('fooabar')"
   ]
  },
  {
   "cell_type": "code",
   "execution_count": 86,
   "id": "8b42b671",
   "metadata": {},
   "outputs": [
    {
     "data": {
      "text/plain": [
       "True"
      ]
     },
     "execution_count": 86,
     "metadata": {},
     "output_type": "execute_result"
    }
   ],
   "source": [
    "is_foobar3('foobar')"
   ]
  },
  {
   "cell_type": "markdown",
   "id": "d9c751f2",
   "metadata": {},
   "source": [
    "#### Character Classes "
   ]
  },
  {
   "cell_type": "code",
   "execution_count": 33,
   "id": "eab495b9",
   "metadata": {},
   "outputs": [],
   "source": [
    "#suppose you want to correctly identify 'foo', 'coo', 'loo'\n",
    "#we must separate for the computer the first letter 'f' from what each character has in common the ending of 'oo'\n",
    "# [fcl]oo\n",
    "def foo_coo_loo(string):\n",
    "    return bool(re.search(r'^[fcl]oo$', string))"
   ]
  },
  {
   "cell_type": "code",
   "execution_count": 34,
   "id": "00f89d48",
   "metadata": {},
   "outputs": [
    {
     "data": {
      "text/plain": [
       "True"
      ]
     },
     "execution_count": 34,
     "metadata": {},
     "output_type": "execute_result"
    }
   ],
   "source": [
    "foo_coo_loo(\"loo\")"
   ]
  },
  {
   "cell_type": "code",
   "execution_count": 35,
   "id": "afb49e2b",
   "metadata": {},
   "outputs": [
    {
     "data": {
      "text/plain": [
       "False"
      ]
     },
     "execution_count": 35,
     "metadata": {},
     "output_type": "execute_result"
    }
   ],
   "source": [
    "foo_coo_loo(\"zoo\")"
   ]
  },
  {
   "cell_type": "code",
   "execution_count": 36,
   "id": "6424687f",
   "metadata": {},
   "outputs": [],
   "source": [
    "def foo_coo_doo_poo_loo_boo(string):\n",
    "    return bool(re.search(r'^[fcdplb]oo$', string))"
   ]
  },
  {
   "cell_type": "code",
   "execution_count": 37,
   "id": "168d2a9e",
   "metadata": {},
   "outputs": [
    {
     "data": {
      "text/plain": [
       "True"
      ]
     },
     "execution_count": 37,
     "metadata": {},
     "output_type": "execute_result"
    }
   ],
   "source": [
    "foo_coo_doo_poo_loo_boo('boo')"
   ]
  },
  {
   "cell_type": "code",
   "execution_count": 38,
   "id": "9b0270c1",
   "metadata": {},
   "outputs": [
    {
     "data": {
      "text/plain": [
       "False"
      ]
     },
     "execution_count": 38,
     "metadata": {},
     "output_type": "execute_result"
    }
   ],
   "source": [
    "foo_coo_doo_poo_loo_boo('zoo')"
   ]
  },
  {
   "cell_type": "code",
   "execution_count": 39,
   "id": "5e8cc40e",
   "metadata": {},
   "outputs": [],
   "source": [
    "#what if we want to just exclude two characters \n",
    "#the carrot symbol negates the class \n",
    "def notmoo_nothoo(string):\n",
    "    return bool(re.search(r'^[^mh]oo$', string))"
   ]
  },
  {
   "cell_type": "code",
   "execution_count": 40,
   "id": "a8507c42",
   "metadata": {},
   "outputs": [
    {
     "data": {
      "text/plain": [
       "False"
      ]
     },
     "execution_count": 40,
     "metadata": {},
     "output_type": "execute_result"
    }
   ],
   "source": [
    "notmoo_nothoo('moo')"
   ]
  },
  {
   "cell_type": "code",
   "execution_count": 42,
   "id": "7067d538",
   "metadata": {},
   "outputs": [
    {
     "data": {
      "text/plain": [
       "True"
      ]
     },
     "execution_count": 42,
     "metadata": {},
     "output_type": "execute_result"
    }
   ],
   "source": [
    "notmoo_nothoo('zoo')"
   ]
  },
  {
   "cell_type": "code",
   "execution_count": 43,
   "id": "b3f8eb98",
   "metadata": {},
   "outputs": [
    {
     "data": {
      "text/plain": [
       "False"
      ]
     },
     "execution_count": 43,
     "metadata": {},
     "output_type": "execute_result"
    }
   ],
   "source": [
    "notmoo_nothoo('hoo')"
   ]
  },
  {
   "cell_type": "markdown",
   "id": "4a07a902",
   "metadata": {},
   "source": [
    "#### Character Classes with Ranges "
   ]
  },
  {
   "cell_type": "code",
   "execution_count": 44,
   "id": "697ce9cb",
   "metadata": {},
   "outputs": [],
   "source": [
    "#suppose we want to correctly identify joo, koo, loo, moo\n",
    "# notice the beginning of these words starts with j, k, l, m \n",
    "def j_through_m(string):\n",
    "    return bool(re.search(r'^[j-m]oo$', string))"
   ]
  },
  {
   "cell_type": "code",
   "execution_count": 45,
   "id": "4ae06c10",
   "metadata": {},
   "outputs": [
    {
     "data": {
      "text/plain": [
       "False"
      ]
     },
     "execution_count": 45,
     "metadata": {},
     "output_type": "execute_result"
    }
   ],
   "source": [
    "j_through_m('boo')"
   ]
  },
  {
   "cell_type": "code",
   "execution_count": 46,
   "id": "4783a69c",
   "metadata": {},
   "outputs": [
    {
     "data": {
      "text/plain": [
       "True"
      ]
     },
     "execution_count": 46,
     "metadata": {},
     "output_type": "execute_result"
    }
   ],
   "source": [
    "j_through_m('koo')"
   ]
  },
  {
   "cell_type": "code",
   "execution_count": 47,
   "id": "764f537b",
   "metadata": {},
   "outputs": [],
   "source": [
    "#suppose we want to correctly identify joo, koo, loo, moo, zoo \n",
    "#all first letters are one after the other in the alphabet with the exception of zoo \n",
    "def j_through_m_andZ(string):\n",
    "    return bool(re.search(r'^[j-mz]oo$', string))"
   ]
  },
  {
   "cell_type": "code",
   "execution_count": 48,
   "id": "8111223e",
   "metadata": {},
   "outputs": [
    {
     "data": {
      "text/plain": [
       "True"
      ]
     },
     "execution_count": 48,
     "metadata": {},
     "output_type": "execute_result"
    }
   ],
   "source": [
    "j_through_m_andZ(\"zoo\")"
   ]
  },
  {
   "cell_type": "code",
   "execution_count": 49,
   "id": "5a506d4e",
   "metadata": {},
   "outputs": [
    {
     "data": {
      "text/plain": [
       "False"
      ]
     },
     "execution_count": 49,
     "metadata": {},
     "output_type": "execute_result"
    }
   ],
   "source": [
    "j_through_m_andZ(\"boo\")"
   ]
  },
  {
   "cell_type": "code",
   "execution_count": 50,
   "id": "3563cc57",
   "metadata": {},
   "outputs": [
    {
     "data": {
      "text/plain": [
       "True"
      ]
     },
     "execution_count": 50,
     "metadata": {},
     "output_type": "execute_result"
    }
   ],
   "source": [
    "j_through_m_andZ(\"moo\")"
   ]
  },
  {
   "cell_type": "code",
   "execution_count": 53,
   "id": "cada041a",
   "metadata": {},
   "outputs": [],
   "source": [
    "#joo, Koo, Loo, moo, zoo\n",
    "#ignoring case sensitivity \n",
    "def lower_and_upper(string):\n",
    "    return bool(re.search(r'^[j-mJ-Mz]oo$', string))"
   ]
  },
  {
   "cell_type": "code",
   "execution_count": 54,
   "id": "2f2b81b1",
   "metadata": {},
   "outputs": [
    {
     "data": {
      "text/plain": [
       "True"
      ]
     },
     "execution_count": 54,
     "metadata": {},
     "output_type": "execute_result"
    }
   ],
   "source": [
    "lower_and_upper(\"Koo\")"
   ]
  },
  {
   "cell_type": "code",
   "execution_count": 55,
   "id": "7787c0eb",
   "metadata": {},
   "outputs": [
    {
     "data": {
      "text/plain": [
       "False"
      ]
     },
     "execution_count": 55,
     "metadata": {},
     "output_type": "execute_result"
    }
   ],
   "source": [
    "lower_and_upper(\"roo\")"
   ]
  },
  {
   "cell_type": "code",
   "execution_count": 56,
   "id": "287b6efa",
   "metadata": {},
   "outputs": [
    {
     "data": {
      "text/plain": [
       "True"
      ]
     },
     "execution_count": 56,
     "metadata": {},
     "output_type": "execute_result"
    }
   ],
   "source": [
    "lower_and_upper(\"zoo\")"
   ]
  },
  {
   "cell_type": "markdown",
   "id": "533dd135",
   "metadata": {},
   "source": [
    "#### Escaping with Backslash"
   ]
  },
  {
   "cell_type": "code",
   "execution_count": 61,
   "id": "bbd8cc2a",
   "metadata": {},
   "outputs": [],
   "source": [
    "# We want: xxx.yy, xx.yyyy, x.yy \n",
    "#first section is all x's\n",
    "#last section is all y's \n",
    "#middle section is a period, the period occurs only once \n",
    "#backslash is called the 'escape' character in regex \n",
    "def x_period_y(string):\n",
    "    return bool(re.search(r'[x*\\.y*]$', string))"
   ]
  },
  {
   "cell_type": "code",
   "execution_count": 62,
   "id": "2e0770e1",
   "metadata": {},
   "outputs": [
    {
     "data": {
      "text/plain": [
       "True"
      ]
     },
     "execution_count": 62,
     "metadata": {},
     "output_type": "execute_result"
    }
   ],
   "source": [
    "x_period_y('xxx.yy')"
   ]
  },
  {
   "cell_type": "code",
   "execution_count": 63,
   "id": "6b5e445c",
   "metadata": {},
   "outputs": [
    {
     "data": {
      "text/plain": [
       "True"
      ]
     },
     "execution_count": 63,
     "metadata": {},
     "output_type": "execute_result"
    }
   ],
   "source": [
    "x_period_y('xx.yyyy')"
   ]
  },
  {
   "cell_type": "code",
   "execution_count": 64,
   "id": "7a989248",
   "metadata": {},
   "outputs": [
    {
     "data": {
      "text/plain": [
       "True"
      ]
     },
     "execution_count": 64,
     "metadata": {},
     "output_type": "execute_result"
    }
   ],
   "source": [
    "x_period_y('x.yy')"
   ]
  },
  {
   "cell_type": "code",
   "execution_count": 65,
   "id": "9e49ec37",
   "metadata": {},
   "outputs": [
    {
     "data": {
      "text/plain": [
       "True"
      ]
     },
     "execution_count": 65,
     "metadata": {},
     "output_type": "execute_result"
    }
   ],
   "source": [
    "#should be false\n",
    "x_period_y('xy')"
   ]
  },
  {
   "cell_type": "code",
   "execution_count": 66,
   "id": "aa4ab203",
   "metadata": {},
   "outputs": [],
   "source": [
    "#suppose we have x#y, x:y, x.y\n",
    "# # and : are not regex symbols but period IS a special regex symbol \n",
    "# if a period is inside square brackets it need not be escaped \n",
    "# the period is only interpreted as a wildcard outside of square brackets \n",
    "# hyphen is used for character class ranges inside square brackets \n",
    "#carrot is also used to negate inside square brackets\n",
    "def x_period_y_withsymbol(string):\n",
    "    return bool(re.search(r'x[#:.]y$', string))"
   ]
  },
  {
   "cell_type": "code",
   "execution_count": 68,
   "id": "6345bf16",
   "metadata": {},
   "outputs": [
    {
     "data": {
      "text/plain": [
       "True"
      ]
     },
     "execution_count": 68,
     "metadata": {},
     "output_type": "execute_result"
    }
   ],
   "source": [
    "x_period_y_withsymbol('x#y')"
   ]
  },
  {
   "cell_type": "code",
   "execution_count": 69,
   "id": "e91a3616",
   "metadata": {},
   "outputs": [
    {
     "data": {
      "text/plain": [
       "True"
      ]
     },
     "execution_count": 69,
     "metadata": {},
     "output_type": "execute_result"
    }
   ],
   "source": [
    "x_period_y_withsymbol('x:y')"
   ]
  },
  {
   "cell_type": "code",
   "execution_count": 70,
   "id": "85da1dab",
   "metadata": {},
   "outputs": [
    {
     "data": {
      "text/plain": [
       "True"
      ]
     },
     "execution_count": 70,
     "metadata": {},
     "output_type": "execute_result"
    }
   ],
   "source": [
    "x_period_y_withsymbol('x.y')"
   ]
  },
  {
   "cell_type": "code",
   "execution_count": 71,
   "id": "8354f19b",
   "metadata": {},
   "outputs": [
    {
     "data": {
      "text/plain": [
       "False"
      ]
     },
     "execution_count": 71,
     "metadata": {},
     "output_type": "execute_result"
    }
   ],
   "source": [
    "x_period_y_withsymbol('x&y')"
   ]
  },
  {
   "cell_type": "code",
   "execution_count": 88,
   "id": "38489922",
   "metadata": {},
   "outputs": [],
   "source": [
    "#x^y\n",
    "#each time you have a special character you must use a backslash to negate even within square brackets \n",
    "#i.e. x\\y or x^y would have to be specified x[\\\\\\^]y\n",
    "def x_period_y_withcarrot(string):\n",
    "    return bool(re.search(r'x[\\^]y$', string))"
   ]
  },
  {
   "cell_type": "code",
   "execution_count": 90,
   "id": "d818b2d7",
   "metadata": {},
   "outputs": [
    {
     "data": {
      "text/plain": [
       "True"
      ]
     },
     "execution_count": 90,
     "metadata": {},
     "output_type": "execute_result"
    }
   ],
   "source": [
    "x_period_y_withcarrot('x^y')"
   ]
  },
  {
   "cell_type": "markdown",
   "id": "8f18c3ff",
   "metadata": {},
   "source": [
    "#### Anchors"
   ]
  },
  {
   "cell_type": "code",
   "execution_count": 91,
   "id": "07a93721",
   "metadata": {},
   "outputs": [],
   "source": [
    "#we want: foo bar baz, foo baz bar\n",
    "def foo_b_b(string):\n",
    "    return bool(re.search(r'^foo.*$', string))"
   ]
  },
  {
   "cell_type": "code",
   "execution_count": 92,
   "id": "f40d95e7",
   "metadata": {},
   "outputs": [
    {
     "data": {
      "text/plain": [
       "True"
      ]
     },
     "execution_count": 92,
     "metadata": {},
     "output_type": "execute_result"
    }
   ],
   "source": [
    "foo_b_b(\"foo bar baz\")"
   ]
  },
  {
   "cell_type": "code",
   "execution_count": 93,
   "id": "f8c35e75",
   "metadata": {},
   "outputs": [
    {
     "data": {
      "text/plain": [
       "False"
      ]
     },
     "execution_count": 93,
     "metadata": {},
     "output_type": "execute_result"
    }
   ],
   "source": [
    "foo_b_b(\"bar foo baz\")"
   ]
  },
  {
   "cell_type": "code",
   "execution_count": 94,
   "id": "368eeaa0",
   "metadata": {},
   "outputs": [],
   "source": [
    "#baz foo bar \n",
    "#foo baz bar \n",
    "def something_bar(string):\n",
    "    return bool(re.search(r'.*bar$', string))"
   ]
  },
  {
   "cell_type": "code",
   "execution_count": 95,
   "id": "2be79dad",
   "metadata": {},
   "outputs": [
    {
     "data": {
      "text/plain": [
       "True"
      ]
     },
     "execution_count": 95,
     "metadata": {},
     "output_type": "execute_result"
    }
   ],
   "source": [
    "something_bar('baz foo bar')"
   ]
  },
  {
   "cell_type": "code",
   "execution_count": 96,
   "id": "dc4c723c",
   "metadata": {},
   "outputs": [
    {
     "data": {
      "text/plain": [
       "True"
      ]
     },
     "execution_count": 96,
     "metadata": {},
     "output_type": "execute_result"
    }
   ],
   "source": [
    "something_bar('foo baz bar')"
   ]
  },
  {
   "cell_type": "code",
   "execution_count": 97,
   "id": "7856ac3e",
   "metadata": {},
   "outputs": [
    {
     "data": {
      "text/plain": [
       "False"
      ]
     },
     "execution_count": 97,
     "metadata": {},
     "output_type": "execute_result"
    }
   ],
   "source": [
    "something_bar('foo bar baz')"
   ]
  },
  {
   "cell_type": "code",
   "execution_count": 99,
   "id": "8dd7285b",
   "metadata": {},
   "outputs": [],
   "source": [
    "#foo  (only foo)\n",
    "#not foo bar, not baz foo, not foo bar baz, not baz bar foo \n",
    "def only_foo(string):\n",
    "    return bool(re.search(r'^foo$', string))"
   ]
  },
  {
   "cell_type": "code",
   "execution_count": 100,
   "id": "70e8b4a7",
   "metadata": {},
   "outputs": [
    {
     "data": {
      "text/plain": [
       "True"
      ]
     },
     "execution_count": 100,
     "metadata": {},
     "output_type": "execute_result"
    }
   ],
   "source": [
    "only_foo(\"foo\")"
   ]
  },
  {
   "cell_type": "code",
   "execution_count": 101,
   "id": "79dbbc67",
   "metadata": {},
   "outputs": [
    {
     "data": {
      "text/plain": [
       "False"
      ]
     },
     "execution_count": 101,
     "metadata": {},
     "output_type": "execute_result"
    }
   ],
   "source": [
    "only_foo(\"foo boo\")"
   ]
  },
  {
   "cell_type": "markdown",
   "id": "0c933d45",
   "metadata": {},
   "source": [
    "#### Curly Braces Repeater"
   ]
  },
  {
   "cell_type": "code",
   "execution_count": 109,
   "id": "47e6c7b4",
   "metadata": {},
   "outputs": [],
   "source": [
    "#Curly Braces Repeater\n",
    "# 834, 519, 645\n",
    "def three_digit_number(string):\n",
    "    return bool(re.search('^[0-9]{3}$', string))"
   ]
  },
  {
   "cell_type": "code",
   "execution_count": 110,
   "id": "5cd879c3",
   "metadata": {},
   "outputs": [
    {
     "data": {
      "text/plain": [
       "True"
      ]
     },
     "execution_count": 110,
     "metadata": {},
     "output_type": "execute_result"
    }
   ],
   "source": [
    "three_digit_number('834')"
   ]
  },
  {
   "cell_type": "code",
   "execution_count": 111,
   "id": "537903bf",
   "metadata": {},
   "outputs": [
    {
     "data": {
      "text/plain": [
       "False"
      ]
     },
     "execution_count": 111,
     "metadata": {},
     "output_type": "execute_result"
    }
   ],
   "source": [
    "three_digit_number('2298')"
   ]
  },
  {
   "cell_type": "code",
   "execution_count": 112,
   "id": "4b3be641",
   "metadata": {},
   "outputs": [],
   "source": [
    "#curly braces repeater for letters \n",
    "# words we want: lion, tiger, mouse, cuckoo, deer\n",
    "# words in symbols: ^[a-z]{4}$, ^[a-z]{5}$, ^[a-z]{5}$, ^[a-z]{6}$, ^[a-z]{4}$\n",
    "def four_to_six_letterwords(string):\n",
    "    return bool(re.search('^[a-z]{4,6}$', string))"
   ]
  },
  {
   "cell_type": "code",
   "execution_count": 135,
   "id": "9d15bff4",
   "metadata": {},
   "outputs": [],
   "source": [
    "# hahahahahahahahaha\n",
    "# hahahahaha\n",
    "# hahahahahahaha\n",
    "# ha{5}, ha{4}, ha{6}, ha{8}, ha{9}\n",
    "def hahahaha(string):\n",
    "    return bool(re.search('(ha){4,}', string))"
   ]
  },
  {
   "cell_type": "code",
   "execution_count": 136,
   "id": "001ccb72",
   "metadata": {},
   "outputs": [
    {
     "data": {
      "text/plain": [
       "True"
      ]
     },
     "execution_count": 136,
     "metadata": {},
     "output_type": "execute_result"
    }
   ],
   "source": [
    "hahahaha('hahahaha')"
   ]
  },
  {
   "cell_type": "code",
   "execution_count": 137,
   "id": "e8dc6c97",
   "metadata": {},
   "outputs": [
    {
     "data": {
      "text/plain": [
       "False"
      ]
     },
     "execution_count": 137,
     "metadata": {},
     "output_type": "execute_result"
    }
   ],
   "source": [
    "hahahaha('haha')"
   ]
  },
  {
   "cell_type": "code",
   "execution_count": 141,
   "id": "8cb682f1",
   "metadata": {},
   "outputs": [],
   "source": [
    "#ha \n",
    "#haha\n",
    "def ha(string):\n",
    "    return bool(re.search('^(ha){,2}$', string))"
   ]
  },
  {
   "cell_type": "code",
   "execution_count": 142,
   "id": "453919b0",
   "metadata": {},
   "outputs": [
    {
     "data": {
      "text/plain": [
       "True"
      ]
     },
     "execution_count": 142,
     "metadata": {},
     "output_type": "execute_result"
    }
   ],
   "source": [
    "ha('ha')"
   ]
  },
  {
   "cell_type": "code",
   "execution_count": 143,
   "id": "bd44bb57",
   "metadata": {},
   "outputs": [
    {
     "data": {
      "text/plain": [
       "False"
      ]
     },
     "execution_count": 143,
     "metadata": {},
     "output_type": "execute_result"
    }
   ],
   "source": [
    "ha('hahaha')"
   ]
  },
  {
   "cell_type": "code",
   "execution_count": 145,
   "id": "15d6701e",
   "metadata": {},
   "outputs": [],
   "source": [
    "# fooaaaabar, fooabar, fooaabar\n",
    "#first entry has four as between foo and bar \n",
    "#second has one a \n",
    "# third has two a's \n",
    "def foo_a_bar(string):\n",
    "    return bool(re.search('fooa+bar', string))"
   ]
  },
  {
   "cell_type": "code",
   "execution_count": 146,
   "id": "d40bc9a9",
   "metadata": {},
   "outputs": [
    {
     "data": {
      "text/plain": [
       "True"
      ]
     },
     "execution_count": 146,
     "metadata": {},
     "output_type": "execute_result"
    }
   ],
   "source": [
    "foo_a_bar('fooaaabar')"
   ]
  },
  {
   "cell_type": "code",
   "execution_count": 148,
   "id": "1ae333e7",
   "metadata": {},
   "outputs": [
    {
     "data": {
      "text/plain": [
       "False"
      ]
     },
     "execution_count": 148,
     "metadata": {},
     "output_type": "execute_result"
    }
   ],
   "source": [
    "foo_a_bar('foobar')"
   ]
  },
  {
   "cell_type": "markdown",
   "id": "84560f9f",
   "metadata": {},
   "source": [
    "#### The question mark binary"
   ]
  },
  {
   "cell_type": "code",
   "execution_count": 150,
   "id": "e5f74cad",
   "metadata": {},
   "outputs": [],
   "source": [
    "#we want: https://website, http://website\n",
    "def website(string):\n",
    "    return bool(re.search('https?://website', string))"
   ]
  },
  {
   "cell_type": "code",
   "execution_count": 151,
   "id": "96de78c4",
   "metadata": {},
   "outputs": [
    {
     "data": {
      "text/plain": [
       "True"
      ]
     },
     "execution_count": 151,
     "metadata": {},
     "output_type": "execute_result"
    }
   ],
   "source": [
    "website('https://website')"
   ]
  },
  {
   "cell_type": "code",
   "execution_count": 152,
   "id": "55e60a0a",
   "metadata": {},
   "outputs": [
    {
     "data": {
      "text/plain": [
       "True"
      ]
     },
     "execution_count": 152,
     "metadata": {},
     "output_type": "execute_result"
    }
   ],
   "source": [
    "website('http://website')"
   ]
  },
  {
   "cell_type": "markdown",
   "id": "d38b3efb",
   "metadata": {},
   "source": [
    "#### Making Choices with Pipe "
   ]
  },
  {
   "cell_type": "code",
   "execution_count": 153,
   "id": "3b6c5339",
   "metadata": {},
   "outputs": [],
   "source": [
    "#want logwood, plywood \n",
    "#don't want redwood\n",
    "def logwood_or_plywood(string):\n",
    "    return bool(re.search('(log|ply)wood', string))"
   ]
  },
  {
   "cell_type": "code",
   "execution_count": 154,
   "id": "aefc5395",
   "metadata": {},
   "outputs": [
    {
     "data": {
      "text/plain": [
       "True"
      ]
     },
     "execution_count": 154,
     "metadata": {},
     "output_type": "execute_result"
    }
   ],
   "source": [
    "logwood_or_plywood('logwood')"
   ]
  },
  {
   "cell_type": "code",
   "execution_count": 155,
   "id": "439099a9",
   "metadata": {},
   "outputs": [
    {
     "data": {
      "text/plain": [
       "False"
      ]
     },
     "execution_count": 155,
     "metadata": {},
     "output_type": "execute_result"
    }
   ],
   "source": [
    "logwood_or_plywood('redwood')"
   ]
  },
  {
   "cell_type": "code",
   "execution_count": 156,
   "id": "e0f0aef0",
   "metadata": {},
   "outputs": [
    {
     "data": {
      "text/plain": [
       "True"
      ]
     },
     "execution_count": 156,
     "metadata": {},
     "output_type": "execute_result"
    }
   ],
   "source": [
    "logwood_or_plywood('plywood')"
   ]
  },
  {
   "cell_type": "markdown",
   "id": "acb2e16d",
   "metadata": {},
   "source": [
    "### Regex - Group capture, find and replace "
   ]
  },
  {
   "cell_type": "code",
   "execution_count": null,
   "id": "b35b786b",
   "metadata": {},
   "outputs": [],
   "source": [
    "#rephrase a string in a new way \n",
    "#example is 1280x720 \n",
    "#format of this ([0-9]+)x([0-9]+)  2 numbers between 0-9 with an unspecified length divided by the character x \n",
    "def new_pixel_format(string):\n",
    "    return bool(re.search('\\pix by \\2 pix', string))"
   ]
  },
  {
   "cell_type": "code",
   "execution_count": null,
   "id": "9fb39fe4",
   "metadata": {},
   "outputs": [],
   "source": []
  },
  {
   "cell_type": "code",
   "execution_count": null,
   "id": "29288e34",
   "metadata": {},
   "outputs": [],
   "source": []
  },
  {
   "cell_type": "code",
   "execution_count": null,
   "id": "8922ca39",
   "metadata": {},
   "outputs": [],
   "source": []
  },
  {
   "cell_type": "code",
   "execution_count": null,
   "id": "fa09989c",
   "metadata": {},
   "outputs": [],
   "source": []
  },
  {
   "cell_type": "code",
   "execution_count": null,
   "id": "347f3036",
   "metadata": {},
   "outputs": [],
   "source": []
  },
  {
   "cell_type": "code",
   "execution_count": null,
   "id": "26901bda",
   "metadata": {},
   "outputs": [],
   "source": []
  },
  {
   "cell_type": "code",
   "execution_count": null,
   "id": "891cb47b",
   "metadata": {},
   "outputs": [],
   "source": []
  },
  {
   "cell_type": "code",
   "execution_count": null,
   "id": "f9e3d0bc",
   "metadata": {},
   "outputs": [],
   "source": []
  },
  {
   "cell_type": "code",
   "execution_count": null,
   "id": "48498e6e",
   "metadata": {},
   "outputs": [],
   "source": []
  },
  {
   "cell_type": "code",
   "execution_count": null,
   "id": "efeaef2c",
   "metadata": {},
   "outputs": [],
   "source": []
  },
  {
   "cell_type": "code",
   "execution_count": null,
   "id": "7cffede6",
   "metadata": {},
   "outputs": [],
   "source": []
  },
  {
   "cell_type": "code",
   "execution_count": null,
   "id": "81952442",
   "metadata": {},
   "outputs": [],
   "source": []
  },
  {
   "cell_type": "code",
   "execution_count": null,
   "id": "4a5c5cbd",
   "metadata": {},
   "outputs": [],
   "source": []
  },
  {
   "cell_type": "code",
   "execution_count": null,
   "id": "4868d17f",
   "metadata": {},
   "outputs": [],
   "source": []
  },
  {
   "cell_type": "code",
   "execution_count": null,
   "id": "b1b3dbcc",
   "metadata": {},
   "outputs": [],
   "source": []
  },
  {
   "cell_type": "code",
   "execution_count": null,
   "id": "a239ac5a",
   "metadata": {},
   "outputs": [],
   "source": []
  },
  {
   "cell_type": "code",
   "execution_count": null,
   "id": "8509d081",
   "metadata": {},
   "outputs": [],
   "source": []
  },
  {
   "cell_type": "code",
   "execution_count": null,
   "id": "7d97b60e",
   "metadata": {},
   "outputs": [],
   "source": []
  },
  {
   "cell_type": "code",
   "execution_count": null,
   "id": "ccf003a5",
   "metadata": {},
   "outputs": [],
   "source": []
  },
  {
   "cell_type": "code",
   "execution_count": null,
   "id": "4b7d4570",
   "metadata": {},
   "outputs": [],
   "source": []
  },
  {
   "cell_type": "code",
   "execution_count": null,
   "id": "983f44db",
   "metadata": {},
   "outputs": [],
   "source": []
  },
  {
   "cell_type": "code",
   "execution_count": null,
   "id": "c79609f3",
   "metadata": {},
   "outputs": [],
   "source": []
  }
 ],
 "metadata": {
  "kernelspec": {
   "display_name": "Python 3 (ipykernel)",
   "language": "python",
   "name": "python3"
  },
  "language_info": {
   "codemirror_mode": {
    "name": "ipython",
    "version": 3
   },
   "file_extension": ".py",
   "mimetype": "text/x-python",
   "name": "python",
   "nbconvert_exporter": "python",
   "pygments_lexer": "ipython3",
   "version": "3.9.7"
  }
 },
 "nbformat": 4,
 "nbformat_minor": 5
}
