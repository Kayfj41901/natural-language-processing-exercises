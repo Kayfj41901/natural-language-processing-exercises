{
 "cells": [
  {
   "cell_type": "markdown",
   "id": "d668c834",
   "metadata": {},
   "source": [
    "# Web Scraping Master the Fundamentals "
   ]
  },
  {
   "cell_type": "code",
   "execution_count": 1,
   "id": "27a45059",
   "metadata": {},
   "outputs": [],
   "source": [
    "import pandas as pd \n",
    "import numpy as np \n",
    "import matplotlib.pyplot as plt \n",
    "import seaborn as sns "
   ]
  },
  {
   "cell_type": "code",
   "execution_count": 7,
   "id": "4ad0f9c4",
   "metadata": {},
   "outputs": [
    {
     "name": "stdout",
     "output_type": "stream",
     "text": [
      "ab\n",
      "name 'a' is not defined\n",
      "ab\n",
      "name 'a' is not defined\n",
      "ab\n",
      "name 'a' is not defined\n",
      "ab\n",
      "name 'a' is not defined\n",
      "ab\n",
      "name 'a' is not defined\n"
     ]
    }
   ],
   "source": [
    "for i in range(5):\n",
    "    try: \n",
    "        print(\"ab\")\n",
    "        print(a)\n",
    "        \n",
    "        print(\"Here Now\")\n",
    "    except Exception as e: \n",
    "        print(str(e))"
   ]
  },
  {
   "cell_type": "code",
   "execution_count": 8,
   "id": "f3c0a44e",
   "metadata": {},
   "outputs": [
    {
     "name": "stdout",
     "output_type": "stream",
     "text": [
      "0\n"
     ]
    }
   ],
   "source": [
    "print(0%2)"
   ]
  },
  {
   "cell_type": "code",
   "execution_count": 9,
   "id": "578a0161",
   "metadata": {},
   "outputs": [
    {
     "name": "stdout",
     "output_type": "stream",
     "text": [
      "1\n"
     ]
    }
   ],
   "source": [
    "print(1%2)"
   ]
  },
  {
   "cell_type": "code",
   "execution_count": 10,
   "id": "05b2ebb4",
   "metadata": {},
   "outputs": [
    {
     "name": "stdout",
     "output_type": "stream",
     "text": [
      "0\n"
     ]
    }
   ],
   "source": [
    "print(2%2)"
   ]
  },
  {
   "cell_type": "code",
   "execution_count": 11,
   "id": "9ffc86aa",
   "metadata": {},
   "outputs": [],
   "source": [
    "import requests"
   ]
  },
  {
   "cell_type": "code",
   "execution_count": 18,
   "id": "262791b3",
   "metadata": {},
   "outputs": [],
   "source": [
    "url = 'https://finance.yahoo.com/quote/AAPL/'"
   ]
  },
  {
   "cell_type": "code",
   "execution_count": null,
   "id": "e869f4b7",
   "metadata": {},
   "outputs": [],
   "source": [
    "prop = \"\""
   ]
  },
  {
   "cell_type": "code",
   "execution_count": 23,
   "id": "f4d956a6",
   "metadata": {},
   "outputs": [],
   "source": [
    "response = requests.get(url)"
   ]
  },
  {
   "cell_type": "code",
   "execution_count": 27,
   "id": "34c804b7",
   "metadata": {},
   "outputs": [
    {
     "name": "stdout",
     "output_type": "stream",
     "text": [
      "<Response [200]>\n"
     ]
    }
   ],
   "source": [
    "print(response)"
   ]
  },
  {
   "cell_type": "code",
   "execution_count": 28,
   "id": "d5c85db0",
   "metadata": {},
   "outputs": [
    {
     "name": "stdout",
     "output_type": "stream",
     "text": [
      "True\n"
     ]
    }
   ],
   "source": [
    "print(response.status_code==200)"
   ]
  },
  {
   "cell_type": "code",
   "execution_count": 26,
   "id": "fe77f759",
   "metadata": {},
   "outputs": [],
   "source": [
    "t = response.text"
   ]
  },
  {
   "cell_type": "code",
   "execution_count": 29,
   "id": "aa3668d7",
   "metadata": {},
   "outputs": [],
   "source": [
    "ind = t.index(\"Previous Close\")"
   ]
  },
  {
   "cell_type": "code",
   "execution_count": 33,
   "id": "2c441ec2",
   "metadata": {},
   "outputs": [],
   "source": [
    "redText = t[ind:].split(\"</span>\")[1]"
   ]
  },
  {
   "cell_type": "code",
   "execution_count": 35,
   "id": "abee6d01",
   "metadata": {},
   "outputs": [],
   "source": [
    "val = redText.split(\">\")[-1]"
   ]
  },
  {
   "cell_type": "code",
   "execution_count": 36,
   "id": "afc2c19c",
   "metadata": {},
   "outputs": [
    {
     "name": "stdout",
     "output_type": "stream",
     "text": [
      "Open\n"
     ]
    }
   ],
   "source": [
    "print(val)"
   ]
  },
  {
   "cell_type": "markdown",
   "id": "68d15975",
   "metadata": {},
   "source": [
    "# Beautiful Soup "
   ]
  },
  {
   "cell_type": "code",
   "execution_count": 37,
   "id": "dde1cc10",
   "metadata": {},
   "outputs": [],
   "source": [
    "from bs4 import BeautifulSoup"
   ]
  },
  {
   "cell_type": "code",
   "execution_count": 38,
   "id": "9c5f46dc",
   "metadata": {},
   "outputs": [],
   "source": [
    "url = 'https://finance.yahoo.com/quote/AAPL/'"
   ]
  },
  {
   "cell_type": "code",
   "execution_count": 39,
   "id": "d590af25",
   "metadata": {},
   "outputs": [],
   "source": [
    "response = requests.get(url)"
   ]
  },
  {
   "cell_type": "code",
   "execution_count": 40,
   "id": "902039a8",
   "metadata": {},
   "outputs": [],
   "source": [
    "t = response.text"
   ]
  },
  {
   "cell_type": "code",
   "execution_count": 41,
   "id": "45497444",
   "metadata": {},
   "outputs": [],
   "source": [
    "soup = BeautifulSoup(t, features=\"html.parser\")"
   ]
  },
  {
   "cell_type": "code",
   "execution_count": 42,
   "id": "7131cf77",
   "metadata": {},
   "outputs": [],
   "source": [
    "trs = soup.find_all(\"tr\")"
   ]
  },
  {
   "cell_type": "code",
   "execution_count": 45,
   "id": "e57f1a3c",
   "metadata": {},
   "outputs": [
    {
     "name": "stdout",
     "output_type": "stream",
     "text": [
      "Previous Close145.86\n"
     ]
    }
   ],
   "source": [
    "print(trs[0].text)"
   ]
  },
  {
   "cell_type": "code",
   "execution_count": 46,
   "id": "821802be",
   "metadata": {},
   "outputs": [
    {
     "name": "stdout",
     "output_type": "stream",
     "text": [
      "Previous Close\n"
     ]
    }
   ],
   "source": [
    "#access td tag \n",
    "print(trs[0].span.text)"
   ]
  },
  {
   "cell_type": "code",
   "execution_count": 49,
   "id": "a88bc950",
   "metadata": {},
   "outputs": [],
   "source": [
    "tds = soup.find_all(\"td\", class_=\"C($primaryColor) W(51%)\")"
   ]
  },
  {
   "cell_type": "code",
   "execution_count": 50,
   "id": "b8f8fcd6",
   "metadata": {},
   "outputs": [
    {
     "name": "stdout",
     "output_type": "stream",
     "text": [
      "[<td class=\"C($primaryColor) W(51%)\"><span>Previous Close</span></td>, <td class=\"C($primaryColor) W(51%)\"><span>Open</span></td>, <td class=\"C($primaryColor) W(51%)\"><span>Bid</span></td>, <td class=\"C($primaryColor) W(51%)\"><span>Ask</span></td>, <td class=\"C($primaryColor) W(51%)\"><span>Day's Range</span></td>, <td class=\"C($primaryColor) W(51%)\"><span>52 Week Range</span></td>, <td class=\"C($primaryColor) W(51%)\"><span>Volume</span></td>, <td class=\"C($primaryColor) W(51%)\"><span>Avg. Volume</span></td>, <td class=\"C($primaryColor) W(51%)\"><span>Market Cap</span></td>, <td class=\"C($primaryColor) W(51%)\"><span>Beta (5Y Monthly)</span></td>, <td class=\"C($primaryColor) W(51%)\"><span>PE Ratio (TTM)</span></td>, <td class=\"C($primaryColor) W(51%)\"><span>EPS (TTM)</span></td>, <td class=\"C($primaryColor) W(51%)\"><span>Earnings Date</span></td>, <td class=\"C($primaryColor) W(51%)\"><span>Forward Dividend &amp; Yield</span></td>, <td class=\"C($primaryColor) W(51%)\"><span>Ex-Dividend Date</span></td>, <td class=\"C($primaryColor) W(51%)\"><span>1y Target Est</span></td>]\n"
     ]
    }
   ],
   "source": [
    "print(tds)"
   ]
  },
  {
   "cell_type": "code",
   "execution_count": 53,
   "id": "8b127b95",
   "metadata": {},
   "outputs": [],
   "source": [
    "trs = soup.find_all(\"tr\")"
   ]
  },
  {
   "cell_type": "code",
   "execution_count": 54,
   "id": "2c260009",
   "metadata": {},
   "outputs": [
    {
     "name": "stdout",
     "output_type": "stream",
     "text": [
      "<td class=\"Ta(end) Fw(600) Lh(14px)\" data-test=\"PREV_CLOSE-value\">145.86</td>\n"
     ]
    }
   ],
   "source": [
    "print(trs[0].find(\"td\",attrs={\"data-test\": \"PREV_CLOSE-value\"}))"
   ]
  },
  {
   "cell_type": "code",
   "execution_count": null,
   "id": "03fcd6ce",
   "metadata": {},
   "outputs": [],
   "source": [
    "#what is the pattern I can use to extract all the values I want \n",
    "#sometimes you have to write a customer loop to extract the data \n",
    "#sometimes writing to navigate to each of these elements here \n",
    "#it shouldn't take too long \n"
   ]
  },
  {
   "cell_type": "code",
   "execution_count": 61,
   "id": "1e321cc5",
   "metadata": {},
   "outputs": [
    {
     "ename": "NameError",
     "evalue": "name 'value' is not defined",
     "output_type": "error",
     "traceback": [
      "\u001b[0;31m---------------------------------------------------------------------------\u001b[0m",
      "\u001b[0;31mNameError\u001b[0m                                 Traceback (most recent call last)",
      "\u001b[0;32m/var/folders/lt/mq77_h29005b8q_dkwt9pz000000gn/T/ipykernel_7052/2507120499.py\u001b[0m in \u001b[0;36m<module>\u001b[0;34m\u001b[0m\n\u001b[1;32m     22\u001b[0m             \u001b[0mvalue\u001b[0m \u001b[0;34m=\u001b[0m \u001b[0mtrs\u001b[0m\u001b[0;34m[\u001b[0m\u001b[0mi\u001b[0m\u001b[0;34m]\u001b[0m\u001b[0;34m.\u001b[0m\u001b[0mcontents\u001b[0m\u001b[0;34m[\u001b[0m\u001b[0mj\u001b[0m\u001b[0;34m]\u001b[0m\u001b[0;34m.\u001b[0m\u001b[0mtext\u001b[0m\u001b[0;34m\u001b[0m\u001b[0;34m\u001b[0m\u001b[0m\n\u001b[1;32m     23\u001b[0m             \u001b[0mvalues\u001b[0m\u001b[0;34m.\u001b[0m\u001b[0mappend\u001b[0m\u001b[0;34m(\u001b[0m\u001b[0mvalue\u001b[0m\u001b[0;34m)\u001b[0m\u001b[0;34m\u001b[0m\u001b[0;34m\u001b[0m\u001b[0m\n\u001b[0;32m---> 24\u001b[0;31m         \u001b[0mnamVal\u001b[0m\u001b[0;34m[\u001b[0m\u001b[0mname\u001b[0m\u001b[0;34m]\u001b[0m\u001b[0;34m=\u001b[0m\u001b[0mvalue\u001b[0m\u001b[0;34m\u001b[0m\u001b[0;34m\u001b[0m\u001b[0m\n\u001b[0m\u001b[1;32m     25\u001b[0m         \u001b[0;32mif\u001b[0m \u001b[0mname\u001b[0m \u001b[0;34m==\u001b[0m \u001b[0mfinalName\u001b[0m\u001b[0;34m:\u001b[0m\u001b[0;34m\u001b[0m\u001b[0;34m\u001b[0m\u001b[0m\n\u001b[1;32m     26\u001b[0m             \u001b[0;32mbreak\u001b[0m\u001b[0;34m\u001b[0m\u001b[0;34m\u001b[0m\u001b[0m\n",
      "\u001b[0;31mNameError\u001b[0m: name 'value' is not defined"
     ]
    }
   ],
   "source": [
    "#automate the extraction so we can get all the names and values from the apple yahoo finance table \n",
    "finalName = '1y Target Est'\n",
    "trs = soup.find_all(\"tr\")\n",
    "#print(trs[0].find(\"td\", attrs={\"data-test\":\"PREV_CLOSE-value\"})\n",
    "#print(trs[0].contents[0].text)\n",
    "#print(trs[0].contents[1].text)\n",
    "\n",
    "names = []\n",
    "values = []\n",
    "\n",
    "namVal = {}\n",
    "#dict2={\"names\":names, \"values\":values}\n",
    "\n",
    "\n",
    "#iterage over the length of tr values \n",
    "for i in range(len(trs)):\n",
    "    for j in range(len(trs[i].contents)):\n",
    "        if j == 0:\n",
    "            name = trs[i].contents[j].text\n",
    "            names.append(name)\n",
    "        if j == 1: \n",
    "            value = trs[i].contents[j].text\n",
    "            values.append(value)\n",
    "        namVal[name]=value\n",
    "        if name == finalName:\n",
    "            break\n",
    "print(names)\n",
    "print(values)\n",
    "print(namVal)"
   ]
  },
  {
   "cell_type": "markdown",
   "id": "d4e048b1",
   "metadata": {},
   "source": [
    "# wikipedia URL "
   ]
  },
  {
   "cell_type": "code",
   "execution_count": 63,
   "id": "7b74b4e3",
   "metadata": {},
   "outputs": [],
   "source": [
    "wikiurl = 'https://en.wikipedia.org/wiki/List_of_S%26P_500_companies'"
   ]
  },
  {
   "cell_type": "code",
   "execution_count": 64,
   "id": "ec7d4383",
   "metadata": {},
   "outputs": [],
   "source": [
    "response = requests.get(wikiurl)"
   ]
  },
  {
   "cell_type": "code",
   "execution_count": 65,
   "id": "5bfa03d2",
   "metadata": {},
   "outputs": [],
   "source": [
    "pageText = response.text"
   ]
  },
  {
   "cell_type": "code",
   "execution_count": 66,
   "id": "d01e3c00",
   "metadata": {},
   "outputs": [],
   "source": [
    "soup = BeautifulSoup(pageText, 'html.parser')"
   ]
  },
  {
   "cell_type": "code",
   "execution_count": 80,
   "id": "20463976",
   "metadata": {},
   "outputs": [
    {
     "name": "stdout",
     "output_type": "stream",
     "text": [
      "ABT\n",
      "\n"
     ]
    }
   ],
   "source": [
    "tickerSymbols = []\n",
    "tbody = soup.find_all(\"tbody\")\n",
    "endSymbol = \"ZTS\"\n",
    "print(tbody[0].contents[6].contents[1].text)\n",
    "\n",
    "for i in range(len(tbody[0].contents)):\n",
    "    if i<2: \n",
    "        continue \n",
    "    if i%2 != 0: #looking for even numbers\n",
    "        continue\n",
    "    #This is where the symbol text is    \n",
    "    symbol = tbody[0].contents[i].contents[1].text\n",
    "    tickerSymbols.append(symbol.strip(\"\\n\"))\n",
    "    if symbol==endSymbol:\n",
    "        break"
   ]
  },
  {
   "cell_type": "code",
   "execution_count": 81,
   "id": "4b8112d5",
   "metadata": {},
   "outputs": [
    {
     "data": {
      "text/plain": [
       "503"
      ]
     },
     "execution_count": 81,
     "metadata": {},
     "output_type": "execute_result"
    }
   ],
   "source": [
    "len(tickerSymbols)"
   ]
  },
  {
   "cell_type": "code",
   "execution_count": 82,
   "id": "a315c0b5",
   "metadata": {},
   "outputs": [
    {
     "data": {
      "text/plain": [
       "'MMM'"
      ]
     },
     "execution_count": 82,
     "metadata": {},
     "output_type": "execute_result"
    }
   ],
   "source": [
    "tickerSymbols[0]"
   ]
  },
  {
   "cell_type": "code",
   "execution_count": 83,
   "id": "35cf4245",
   "metadata": {},
   "outputs": [
    {
     "data": {
      "text/plain": [
       "'ZTS'"
      ]
     },
     "execution_count": 83,
     "metadata": {},
     "output_type": "execute_result"
    }
   ],
   "source": [
    "tickerSymbols[-1]"
   ]
  },
  {
   "cell_type": "code",
   "execution_count": 74,
   "id": "b964ec0f",
   "metadata": {},
   "outputs": [
    {
     "name": "stdout",
     "output_type": "stream",
     "text": [
      "<tr>\n",
      "<td><a class=\"external text\" href=\"https://www.nyse.com/quote/XNYS:ABT\" rel=\"nofollow\">ABT</a>\n",
      "</td>\n",
      "<td><a href=\"/wiki/Abbott_Laboratories\" title=\"Abbott Laboratories\">Abbott</a></td>\n",
      "<td><a class=\"external text\" href=\"https://www.sec.gov/edgar/browse/?CIK=1800\" rel=\"nofollow\">reports</a></td>\n",
      "<td>Health Care</td>\n",
      "<td>Health Care Equipment</td>\n",
      "<td><a href=\"/wiki/North_Chicago,_Illinois\" title=\"North Chicago, Illinois\">North Chicago, Illinois</a></td>\n",
      "<td>1964-03-31</td>\n",
      "<td>0000001800</td>\n",
      "<td>1888\n",
      "</td></tr>\n"
     ]
    }
   ],
   "source": [
    "#basically every even index starting at two will correspond to a row \n",
    "print(tbody[0].contents[6])"
   ]
  },
  {
   "cell_type": "markdown",
   "id": "b65733b3",
   "metadata": {},
   "source": [
    "# Combining Two Data Sources "
   ]
  },
  {
   "cell_type": "code",
   "execution_count": null,
   "id": "18c07f63",
   "metadata": {},
   "outputs": [],
   "source": []
  },
  {
   "cell_type": "code",
   "execution_count": null,
   "id": "6af7adbd",
   "metadata": {},
   "outputs": [],
   "source": []
  },
  {
   "cell_type": "code",
   "execution_count": null,
   "id": "72a3be89",
   "metadata": {},
   "outputs": [],
   "source": []
  },
  {
   "cell_type": "code",
   "execution_count": null,
   "id": "ebd38b49",
   "metadata": {},
   "outputs": [],
   "source": []
  },
  {
   "cell_type": "code",
   "execution_count": null,
   "id": "d1d0fa9b",
   "metadata": {},
   "outputs": [],
   "source": []
  },
  {
   "cell_type": "code",
   "execution_count": null,
   "id": "c7382b85",
   "metadata": {},
   "outputs": [],
   "source": []
  },
  {
   "cell_type": "code",
   "execution_count": null,
   "id": "ada6e7ca",
   "metadata": {},
   "outputs": [],
   "source": []
  },
  {
   "cell_type": "code",
   "execution_count": null,
   "id": "cf9310d7",
   "metadata": {},
   "outputs": [],
   "source": []
  },
  {
   "cell_type": "code",
   "execution_count": null,
   "id": "66ff5f16",
   "metadata": {},
   "outputs": [],
   "source": []
  },
  {
   "cell_type": "code",
   "execution_count": null,
   "id": "9dbb9cd1",
   "metadata": {},
   "outputs": [],
   "source": []
  },
  {
   "cell_type": "code",
   "execution_count": null,
   "id": "1b294471",
   "metadata": {},
   "outputs": [],
   "source": []
  },
  {
   "cell_type": "code",
   "execution_count": null,
   "id": "0225e3e1",
   "metadata": {},
   "outputs": [],
   "source": []
  },
  {
   "cell_type": "code",
   "execution_count": null,
   "id": "c5ebda7c",
   "metadata": {},
   "outputs": [],
   "source": []
  },
  {
   "cell_type": "code",
   "execution_count": null,
   "id": "55607694",
   "metadata": {},
   "outputs": [],
   "source": []
  },
  {
   "cell_type": "code",
   "execution_count": null,
   "id": "49ef9cc7",
   "metadata": {},
   "outputs": [],
   "source": []
  },
  {
   "cell_type": "code",
   "execution_count": null,
   "id": "3749c0ff",
   "metadata": {},
   "outputs": [],
   "source": []
  },
  {
   "cell_type": "code",
   "execution_count": null,
   "id": "1e7ae7c9",
   "metadata": {},
   "outputs": [],
   "source": []
  },
  {
   "cell_type": "code",
   "execution_count": null,
   "id": "a3068741",
   "metadata": {},
   "outputs": [],
   "source": []
  },
  {
   "cell_type": "code",
   "execution_count": null,
   "id": "acd57e9e",
   "metadata": {},
   "outputs": [],
   "source": []
  },
  {
   "cell_type": "code",
   "execution_count": null,
   "id": "f0be8cc9",
   "metadata": {},
   "outputs": [],
   "source": []
  },
  {
   "cell_type": "code",
   "execution_count": null,
   "id": "8550d415",
   "metadata": {},
   "outputs": [],
   "source": []
  },
  {
   "cell_type": "code",
   "execution_count": null,
   "id": "91b92a39",
   "metadata": {},
   "outputs": [],
   "source": []
  },
  {
   "cell_type": "code",
   "execution_count": null,
   "id": "8f22a625",
   "metadata": {},
   "outputs": [],
   "source": []
  },
  {
   "cell_type": "code",
   "execution_count": null,
   "id": "fa7ad7c4",
   "metadata": {},
   "outputs": [],
   "source": []
  },
  {
   "cell_type": "code",
   "execution_count": null,
   "id": "469a1b0b",
   "metadata": {},
   "outputs": [],
   "source": []
  },
  {
   "cell_type": "code",
   "execution_count": null,
   "id": "8e51dadd",
   "metadata": {},
   "outputs": [],
   "source": []
  },
  {
   "cell_type": "code",
   "execution_count": null,
   "id": "533d57dc",
   "metadata": {},
   "outputs": [],
   "source": []
  },
  {
   "cell_type": "code",
   "execution_count": null,
   "id": "38c429e7",
   "metadata": {},
   "outputs": [],
   "source": []
  },
  {
   "cell_type": "code",
   "execution_count": null,
   "id": "8103e509",
   "metadata": {},
   "outputs": [],
   "source": []
  },
  {
   "cell_type": "code",
   "execution_count": null,
   "id": "1a928a9c",
   "metadata": {},
   "outputs": [],
   "source": []
  },
  {
   "cell_type": "code",
   "execution_count": null,
   "id": "1b3b6d6f",
   "metadata": {},
   "outputs": [],
   "source": []
  },
  {
   "cell_type": "code",
   "execution_count": null,
   "id": "df093412",
   "metadata": {},
   "outputs": [],
   "source": []
  },
  {
   "cell_type": "code",
   "execution_count": null,
   "id": "9c00f226",
   "metadata": {},
   "outputs": [],
   "source": []
  },
  {
   "cell_type": "code",
   "execution_count": null,
   "id": "2c3c0979",
   "metadata": {},
   "outputs": [],
   "source": []
  },
  {
   "cell_type": "code",
   "execution_count": null,
   "id": "1488d511",
   "metadata": {},
   "outputs": [],
   "source": []
  },
  {
   "cell_type": "code",
   "execution_count": null,
   "id": "c992789e",
   "metadata": {},
   "outputs": [],
   "source": []
  },
  {
   "cell_type": "code",
   "execution_count": null,
   "id": "9ac5530c",
   "metadata": {},
   "outputs": [],
   "source": []
  },
  {
   "cell_type": "code",
   "execution_count": null,
   "id": "9f03d08b",
   "metadata": {},
   "outputs": [],
   "source": []
  },
  {
   "cell_type": "code",
   "execution_count": null,
   "id": "5cff8097",
   "metadata": {},
   "outputs": [],
   "source": []
  },
  {
   "cell_type": "code",
   "execution_count": null,
   "id": "2fdaaa4d",
   "metadata": {},
   "outputs": [],
   "source": []
  }
 ],
 "metadata": {
  "kernelspec": {
   "display_name": "Python 3 (ipykernel)",
   "language": "python",
   "name": "python3"
  },
  "language_info": {
   "codemirror_mode": {
    "name": "ipython",
    "version": 3
   },
   "file_extension": ".py",
   "mimetype": "text/x-python",
   "name": "python",
   "nbconvert_exporter": "python",
   "pygments_lexer": "ipython3",
   "version": "3.9.7"
  }
 },
 "nbformat": 4,
 "nbformat_minor": 5
}
